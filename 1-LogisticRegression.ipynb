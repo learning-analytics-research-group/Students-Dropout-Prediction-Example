{
 "cells": [
  {
   "cell_type": "code",
   "execution_count": 1,
   "id": "6d84985b",
   "metadata": {},
   "outputs": [],
   "source": [
    "import numpy as np\n",
    "import pandas as pd\n",
    "import matplotlib.pyplot as plt"
   ]
  },
  {
   "cell_type": "code",
   "execution_count": 2,
   "id": "954759b8",
   "metadata": {},
   "outputs": [],
   "source": [
    "# Importing and cleaning the data\n",
    "train_data = pd.read_csv('data/DBS.csv', sep=';')\n",
    "test_data = pd.read_csv('data/DBS_2020.csv', sep=';')"
   ]
  },
  {
   "cell_type": "code",
   "execution_count": 3,
   "id": "21b1e759",
   "metadata": {},
   "outputs": [],
   "source": [
    "X_train = np.asarray(train_data[['access', 'tests', 'assignments']])\n",
    "y_train = np.asarray(train_data['graduate'])"
   ]
  },
  {
   "cell_type": "code",
   "execution_count": 4,
   "id": "7e55e2ce",
   "metadata": {},
   "outputs": [],
   "source": [
    "X_test = np.asarray(test_data[['access', 'tests', 'assignments']])\n",
    "y_test = np.asarray(test_data['graduate'])"
   ]
  },
  {
   "cell_type": "code",
   "execution_count": 5,
   "id": "ce7394ed",
   "metadata": {},
   "outputs": [],
   "source": [
    "# Data normalization with sklearn\n",
    "from sklearn import preprocessing\n",
    "standardized_X = preprocessing.scale(X_test)\n",
    "df = pd.DataFrame(standardized_X)"
   ]
  },
  {
   "cell_type": "code",
   "execution_count": 24,
   "id": "a5e919c1",
   "metadata": {},
   "outputs": [],
   "source": [
    "# Transform the dataset\n",
    "# SMOTE (synthetic minority oversampling technique)\n",
    "from imblearn.over_sampling import SMOTE\n",
    "\n",
    "sm = SMOTE(random_state = 2) \n",
    "\n",
    "# fit_sample was renamed to fit_resample in v0.4.\n",
    "X_train_res, y_train_res = sm.fit_resample(X_train, y_train) "
   ]
  },
  {
   "cell_type": "code",
   "execution_count": 57,
   "id": "e4b5175d",
   "metadata": {},
   "outputs": [
    {
     "name": "stdout",
     "output_type": "stream",
     "text": [
      "[[0.00171531 0.10990767 0.04651446]]\n",
      "[-5.45030527]\n"
     ]
    }
   ],
   "source": [
    "# regressão logística usando sklearn\n",
    "\n",
    "from sklearn.linear_model import LogisticRegression\n",
    "\n",
    "#lr1 = LogisticRegression(fit_intercept = False)\n",
    "lr1 = LogisticRegression()\n",
    "lr1.fit(X_train_res, y_train_res)\n",
    "\n",
    "print(lr1.coef_)\n",
    "print(lr1.intercept_)"
   ]
  },
  {
   "cell_type": "code",
   "execution_count": 60,
   "id": "50fdc37a",
   "metadata": {},
   "outputs": [
    {
     "name": "stdout",
     "output_type": "stream",
     "text": [
      "Optimization terminated successfully.\n",
      "         Current function value: 0.419387\n",
      "         Iterations 7\n"
     ]
    },
    {
     "data": {
      "text/plain": [
       "array([-5.45131013e+00,  1.71500060e-03,  1.09935111e-01,  4.65278269e-02])"
      ]
     },
     "execution_count": 60,
     "metadata": {},
     "output_type": "execute_result"
    }
   ],
   "source": [
    "# regressão logística usando statsmodels  \n",
    "\n",
    "import statsmodels.api as sm\n",
    "X_train_res_com_intercepto = sm.add_constant(X_train_res)\n",
    "log_reg = sm.Logit(y_train_res, X_train_res_com_intercepto).fit()\n",
    "log_reg.params"
   ]
  },
  {
   "cell_type": "code",
   "execution_count": 61,
   "id": "030bcfc7",
   "metadata": {},
   "outputs": [
    {
     "data": {
      "text/html": [
       "<table class=\"simpletable\">\n",
       "<caption>Logit Regression Results</caption>\n",
       "<tr>\n",
       "  <th>Dep. Variable:</th>           <td>y</td>        <th>  No. Observations:  </th>  <td>   420</td>  \n",
       "</tr>\n",
       "<tr>\n",
       "  <th>Model:</th>                 <td>Logit</td>      <th>  Df Residuals:      </th>  <td>   416</td>  \n",
       "</tr>\n",
       "<tr>\n",
       "  <th>Method:</th>                 <td>MLE</td>       <th>  Df Model:          </th>  <td>     3</td>  \n",
       "</tr>\n",
       "<tr>\n",
       "  <th>Date:</th>            <td>Thu, 28 Apr 2022</td> <th>  Pseudo R-squ.:     </th>  <td>0.3950</td>  \n",
       "</tr>\n",
       "<tr>\n",
       "  <th>Time:</th>                <td>01:49:18</td>     <th>  Log-Likelihood:    </th> <td> -176.14</td> \n",
       "</tr>\n",
       "<tr>\n",
       "  <th>converged:</th>             <td>True</td>       <th>  LL-Null:           </th> <td> -291.12</td> \n",
       "</tr>\n",
       "<tr>\n",
       "  <th>Covariance Type:</th>     <td>nonrobust</td>    <th>  LLR p-value:       </th> <td>1.412e-49</td>\n",
       "</tr>\n",
       "</table>\n",
       "<table class=\"simpletable\">\n",
       "<tr>\n",
       "    <td></td>       <th>coef</th>     <th>std err</th>      <th>z</th>      <th>P>|z|</th>  <th>[0.025</th>    <th>0.975]</th>  \n",
       "</tr>\n",
       "<tr>\n",
       "  <th>const</th> <td>   -5.4513</td> <td>    0.627</td> <td>   -8.692</td> <td> 0.000</td> <td>   -6.681</td> <td>   -4.222</td>\n",
       "</tr>\n",
       "<tr>\n",
       "  <th>x1</th>    <td>    0.0017</td> <td>    0.001</td> <td>    2.836</td> <td> 0.005</td> <td>    0.001</td> <td>    0.003</td>\n",
       "</tr>\n",
       "<tr>\n",
       "  <th>x2</th>    <td>    0.1099</td> <td>    0.015</td> <td>    7.195</td> <td> 0.000</td> <td>    0.080</td> <td>    0.140</td>\n",
       "</tr>\n",
       "<tr>\n",
       "  <th>x3</th>    <td>    0.0465</td> <td>    0.021</td> <td>    2.264</td> <td> 0.024</td> <td>    0.006</td> <td>    0.087</td>\n",
       "</tr>\n",
       "</table>"
      ],
      "text/plain": [
       "<class 'statsmodels.iolib.summary.Summary'>\n",
       "\"\"\"\n",
       "                           Logit Regression Results                           \n",
       "==============================================================================\n",
       "Dep. Variable:                      y   No. Observations:                  420\n",
       "Model:                          Logit   Df Residuals:                      416\n",
       "Method:                           MLE   Df Model:                            3\n",
       "Date:                Thu, 28 Apr 2022   Pseudo R-squ.:                  0.3950\n",
       "Time:                        01:49:18   Log-Likelihood:                -176.14\n",
       "converged:                       True   LL-Null:                       -291.12\n",
       "Covariance Type:            nonrobust   LLR p-value:                 1.412e-49\n",
       "==============================================================================\n",
       "                 coef    std err          z      P>|z|      [0.025      0.975]\n",
       "------------------------------------------------------------------------------\n",
       "const         -5.4513      0.627     -8.692      0.000      -6.681      -4.222\n",
       "x1             0.0017      0.001      2.836      0.005       0.001       0.003\n",
       "x2             0.1099      0.015      7.195      0.000       0.080       0.140\n",
       "x3             0.0465      0.021      2.264      0.024       0.006       0.087\n",
       "==============================================================================\n",
       "\"\"\""
      ]
     },
     "execution_count": 61,
     "metadata": {},
     "output_type": "execute_result"
    }
   ],
   "source": [
    "log_reg.summary()"
   ]
  },
  {
   "cell_type": "code",
   "execution_count": 36,
   "id": "1fa77e1a",
   "metadata": {},
   "outputs": [
    {
     "name": "stdout",
     "output_type": "stream",
     "text": [
      "Mean ROC AUC: 0.969\n"
     ]
    }
   ],
   "source": []
  },
  {
   "cell_type": "code",
   "execution_count": 50,
   "id": "7605f5d2",
   "metadata": {},
   "outputs": [
    {
     "data": {
      "text/plain": [
       "array([1, 1, 1, 1, 1, 1, 1, 1, 1, 1, 1, 1, 1, 1, 1, 1, 1, 0, 1, 1, 1, 1,\n",
       "       1, 1, 1, 1, 1, 1, 1, 1, 1, 1, 0, 1, 1, 1, 1, 1, 1, 1, 1, 1, 1, 1,\n",
       "       1, 1, 1, 0, 0, 0, 0, 0, 0, 0, 0, 1, 0, 0, 0, 0])"
      ]
     },
     "execution_count": 50,
     "metadata": {},
     "output_type": "execute_result"
    }
   ],
   "source": [
    "# Predictions sklearn\n",
    "\n",
    "yhat = lr1.predict(X_test)\n",
    "yhat_prob = lr1.predict_proba(X_test)\n",
    "yhat"
   ]
  },
  {
   "cell_type": "code",
   "execution_count": 51,
   "id": "6412f0f1",
   "metadata": {},
   "outputs": [
    {
     "data": {
      "text/plain": [
       "array([[12,  2],\n",
       "       [ 2, 44]])"
      ]
     },
     "execution_count": 51,
     "metadata": {},
     "output_type": "execute_result"
    }
   ],
   "source": [
    "from sklearn.metrics import confusion_matrix\n",
    "confusion_matrix(y_test, yhat)"
   ]
  },
  {
   "cell_type": "code",
   "execution_count": 63,
   "id": "7bff9a5f",
   "metadata": {},
   "outputs": [
    {
     "name": "stdout",
     "output_type": "stream",
     "text": [
      "              precision    recall  f1-score   support\n",
      "\n",
      "           0       0.86      0.86      0.86        14\n",
      "           1       0.96      0.96      0.96        46\n",
      "\n",
      "    accuracy                           0.93        60\n",
      "   macro avg       0.91      0.91      0.91        60\n",
      "weighted avg       0.93      0.93      0.93        60\n",
      "\n"
     ]
    }
   ],
   "source": [
    "from sklearn.metrics import classification_report\n",
    "\n",
    "print(classification_report(y_test, yhat))"
   ]
  },
  {
   "cell_type": "code",
   "execution_count": 74,
   "id": "db9abab0",
   "metadata": {},
   "outputs": [
    {
     "data": {
      "text/plain": [
       "array([1, 1, 1, 1, 1, 1, 1, 1, 1, 1, 1, 1, 1, 1, 1, 1, 1, 0, 1, 1, 1, 1,\n",
       "       1, 1, 1, 1, 1, 1, 1, 1, 1, 1, 0, 1, 1, 1, 1, 1, 1, 1, 1, 1, 1, 1,\n",
       "       1, 1, 1, 0, 0, 0, 0, 0, 0, 0, 0, 1, 0, 0, 0, 0])"
      ]
     },
     "execution_count": 74,
     "metadata": {},
     "output_type": "execute_result"
    }
   ],
   "source": [
    "X_test_com_intercepto = sm.add_constant(X_test)\n",
    "( log_reg.predict(X_test_com_intercepto)>0.5 ).astype(int)"
   ]
  },
  {
   "cell_type": "code",
   "execution_count": 75,
   "id": "85cf9969",
   "metadata": {},
   "outputs": [
    {
     "data": {
      "text/plain": [
       "array([1, 1, 1, 1, 1, 1, 1, 1, 1, 1, 1, 1, 1, 1, 1, 1, 1, 0, 1, 1, 1, 1,\n",
       "       1, 1, 1, 1, 1, 1, 1, 1, 1, 1, 0, 1, 1, 1, 1, 1, 1, 1, 1, 1, 1, 1,\n",
       "       1, 1, 1, 0, 0, 0, 0, 0, 0, 0, 0, 1, 0, 0, 0, 0])"
      ]
     },
     "execution_count": 75,
     "metadata": {},
     "output_type": "execute_result"
    }
   ],
   "source": []
  },
  {
   "cell_type": "code",
   "execution_count": null,
   "id": "e61bfeae",
   "metadata": {},
   "outputs": [],
   "source": []
  },
  {
   "cell_type": "code",
   "execution_count": 76,
   "id": "16c8e537",
   "metadata": {},
   "outputs": [
    {
     "name": "stdout",
     "output_type": "stream",
     "text": [
      "Mean ROC AUC: 0.979\n"
     ]
    }
   ],
   "source": [
    "from sklearn.model_selection import RepeatedStratifiedKFold\n",
    "from sklearn.model_selection import cross_val_score\n",
    "\n",
    "cv = RepeatedStratifiedKFold(n_splits=5, n_repeats=2, random_state=1)\n",
    "scores = cross_val_score(lr1, X_test, y_test, scoring='roc_auc', cv=cv, n_jobs=-1)\n",
    "print('Mean ROC AUC: %.3f' % np.mean(scores))"
   ]
  },
  {
   "cell_type": "code",
   "execution_count": 77,
   "id": "10ca22b8",
   "metadata": {},
   "outputs": [
    {
     "data": {
      "image/png": "[encoded data removed]",
      "text/plain": [
       "<Figure size 432x288 with 1 Axes>"
      ]
     },
     "metadata": {
      "needs_background": "light"
     },
     "output_type": "display_data"
    }
   ],
   "source": [
    "from sklearn import metrics\n",
    "y_pred_proba = lr1.predict_proba(X_test)[::,1]\n",
    "fpr, tpr, _ = metrics.roc_curve(y_test,  y_pred_proba)\n",
    "auc = metrics.roc_auc_score(y_test, y_pred_proba)\n",
    "plt.ylabel('True Positive Rate')\n",
    "plt.xlabel('False Positive Rate')\n",
    "plt.plot(fpr,tpr,label=\"Logistic regression, AUC=\"+str(auc))\n",
    "plt.legend(loc=4)\n",
    "plt.show()"
   ]
  },
  {
   "cell_type": "code",
   "execution_count": null,
   "id": "f73c3f3c",
   "metadata": {},
   "outputs": [],
   "source": []
  }
 ],
 "metadata": {
  "kernelspec": {
   "display_name": "Python 3 (ipykernel)",
   "language": "python",
   "name": "python3"
  },
  "language_info": {
   "codemirror_mode": {
    "name": "ipython",
    "version": 3
   },
   "file_extension": ".py",
   "mimetype": "text/x-python",
   "name": "python",
   "nbconvert_exporter": "python",
   "pygments_lexer": "ipython3",
   "version": "3.9.2"
  }
 },
 "nbformat": 4,
 "nbformat_minor": 5
}
